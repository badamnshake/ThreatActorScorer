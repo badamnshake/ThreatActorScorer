{
 "cells": [
  {
   "cell_type": "code",
   "execution_count": 1,
   "metadata": {},
   "outputs": [],
   "source": [
    "import pandas as pd"
   ]
  },
  {
   "cell_type": "code",
   "execution_count": 2,
   "metadata": {},
   "outputs": [],
   "source": [
    "\n",
    "# nist data preprocessing and cleaning\n",
    "# this data maps nist violations against mitre techniques\n",
    "# nist mapping\n",
    "nist_df = pd.read_csv('../data/nist_800_53_mapping.csv')\n",
    "nist_df = nist_df.drop(nist_df[nist_df['mapping_type']=='non_mappable'].index)\n",
    "nist_df = nist_df.drop(columns=['mapping_type','attack_version',\n",
    "                                # 'technology_domain',\n",
    "                                'references',\n",
    "                                'comments',\n",
    "                                'organization',\n",
    "                                'creation_date',\n",
    "                                'last_update',\n",
    "                                'mapping_framework_version',\n",
    "                                'mapping_framework', 'Unnamed: 0'])\n",
    "# display(nist_df)"
   ]
  },
  {
   "cell_type": "code",
   "execution_count": 4,
   "metadata": {},
   "outputs": [
    {
     "name": "stdout",
     "output_type": "stream",
     "text": [
      "nist violations\n",
      "----------------------------\n"
     ]
    },
    {
     "data": {
      "text/html": [
       "<div>\n",
       "<style scoped>\n",
       "    .dataframe tbody tr th:only-of-type {\n",
       "        vertical-align: middle;\n",
       "    }\n",
       "\n",
       "    .dataframe tbody tr th {\n",
       "        vertical-align: top;\n",
       "    }\n",
       "\n",
       "    .dataframe thead th {\n",
       "        text-align: right;\n",
       "    }\n",
       "</style>\n",
       "<table border=\"1\" class=\"dataframe\">\n",
       "  <thead>\n",
       "    <tr style=\"text-align: right;\">\n",
       "      <th></th>\n",
       "      <th>capability_group</th>\n",
       "      <th>capability_id</th>\n",
       "    </tr>\n",
       "  </thead>\n",
       "  <tbody>\n",
       "    <tr>\n",
       "      <th>0</th>\n",
       "      <td>Access Control</td>\n",
       "      <td>6</td>\n",
       "    </tr>\n",
       "    <tr>\n",
       "      <th>1</th>\n",
       "      <td>Configuration Management</td>\n",
       "      <td>3</td>\n",
       "    </tr>\n",
       "    <tr>\n",
       "      <th>2</th>\n",
       "      <td>Identification and Authentication</td>\n",
       "      <td>2</td>\n",
       "    </tr>\n",
       "    <tr>\n",
       "      <th>3</th>\n",
       "      <td>System and Communications Protection</td>\n",
       "      <td>2</td>\n",
       "    </tr>\n",
       "    <tr>\n",
       "      <th>4</th>\n",
       "      <td>System and Information Integrity</td>\n",
       "      <td>2</td>\n",
       "    </tr>\n",
       "  </tbody>\n",
       "</table>\n",
       "</div>"
      ],
      "text/plain": [
       "                       capability_group  capability_id\n",
       "0                        Access Control              6\n",
       "1              Configuration Management              3\n",
       "2     Identification and Authentication              2\n",
       "3  System and Communications Protection              2\n",
       "4      System and Information Integrity              2"
      ]
     },
     "metadata": {},
     "output_type": "display_data"
    }
   ],
   "source": [
    "ttps = ['T1136']\n",
    "\n",
    "\n",
    "\n",
    "# get all nist violations by one technique(ttp)\n",
    "nistviolations = nist_df.loc[nist_df['attack_object_id'].isin(ttps)].reset_index(drop=True)\n",
    "\n",
    "# filter duplicates (ex. t1001 & 1002 both has access control violations AC02, but that is only one record)\n",
    "nistviolations = nistviolations.drop_duplicates(subset=['capability_id'])\n",
    "\n",
    "print(\"nist violations\")\n",
    "print(\"----------------------------\")\n",
    "nistviolations = nistviolations.groupby('capability_group')['capability_id'].count().reset_index()\n",
    "\n",
    "display(nistviolations)"
   ]
  }
 ],
 "metadata": {
  "kernelspec": {
   "display_name": "niu",
   "language": "python",
   "name": "python3"
  },
  "language_info": {
   "codemirror_mode": {
    "name": "ipython",
    "version": 3
   },
   "file_extension": ".py",
   "mimetype": "text/x-python",
   "name": "python",
   "nbconvert_exporter": "python",
   "pygments_lexer": "ipython3",
   "version": "3.12.4"
  }
 },
 "nbformat": 4,
 "nbformat_minor": 2
}
