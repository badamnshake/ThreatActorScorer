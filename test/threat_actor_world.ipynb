{
 "cells": [
  {
   "cell_type": "code",
   "execution_count": 1,
   "metadata": {},
   "outputs": [],
   "source": [
    "import pandas as pd\n",
    "\n",
    "df = pd.read_excel('../data/clean_dd.xlsx')\n"
   ]
  },
  {
   "cell_type": "code",
   "execution_count": 14,
   "metadata": {},
   "outputs": [
    {
     "data": {
      "text/plain": [
       "0                 31337\n",
       "1                856887\n",
       "2                $2a$45\n",
       "3            @0x1Taylor\n",
       "4           @0x55Taylor\n",
       "             ...       \n",
       "1118         zerodark70\n",
       "1119    Zhengquan Zhang\n",
       "1120            Zukr@in\n",
       "1121         Zurael_sTz\n",
       "1122             Zyklon\n",
       "Length: 1123, dtype: object"
      ]
     },
     "metadata": {},
     "output_type": "display_data"
    }
   ],
   "source": [
    "\n",
    "\n",
    "# display(df.head())\n",
    "xdf = pd.Series(df['actor'].unique())\n",
    "\n",
    "display(xdf)\n",
    "\n",
    "# xdf.to_csv('x.csv', sep=',', index=False, encoding='utf-8')\n"
   ]
  }
 ],
 "metadata": {
  "kernelspec": {
   "display_name": "niu",
   "language": "python",
   "name": "python3"
  },
  "language_info": {
   "codemirror_mode": {
    "name": "ipython",
    "version": 3
   },
   "file_extension": ".py",
   "mimetype": "text/x-python",
   "name": "python",
   "nbconvert_exporter": "python",
   "pygments_lexer": "ipython3",
   "version": "3.12.4"
  }
 },
 "nbformat": 4,
 "nbformat_minor": 2
}
