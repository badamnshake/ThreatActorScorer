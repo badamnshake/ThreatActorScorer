{
 "cells": [
  {
   "cell_type": "code",
   "execution_count": 2,
   "metadata": {},
   "outputs": [],
   "source": [
    "import pandas as pd"
   ]
  },
  {
   "cell_type": "code",
   "execution_count": null,
   "metadata": {},
   "outputs": [],
   "source": [
    "# Load the CSV and Excel files\n",
    "cve_df = pd.read_csv('../data/cve_mapping.csv')\n",
    "cwe_df = pd.read_excel('../data/cve_to_cwe.xlsx')\n",
    "\n",
    "# Clean up and drop unnecessary columns in cve_df\n",
    "cve_df = cve_df.drop(columns=[\n",
    "    'attack_version', 'technology_domain', 'references', 'comments', \n",
    "    'organization', 'creation_date', 'last_update', \n",
    "    'mapping_framework_version', 'mapping_framework', 'Unnamed: 0'])\n",
    "\n",
    "# Rename columns in cwe_df and drop description\n",
    "cwe_df.rename(columns={\n",
    "    \"CVE-ID\": \"capability_id\", \"CVSS-V3\": \"cvss_v3\", \"CVSS-V2\": \"cvss_v2\", \n",
    "    \"SEVERITY\": \"severity\", \"CWE-ID\": \"cwe_id\", \"ID\": \"id\"\n",
    "}, inplace=True)\n",
    "cwe_df = cwe_df.drop(columns=['DESCRIPTION'])\n",
    "cwe_df['severity'] = cwe_df['severity'].str.lower()\n",
    "\n",
    "# Merge cve_df with cwe_df on 'capability_id'\n",
    "cve_df = pd.merge(cve_df, cwe_df, how='left', on='capability_id')\n",
    "\n",
    "# Extract the year from the 'capability_group' and rename columns\n",
    "cve_df['capability_group'] = cve_df['capability_group'].str.extract(r'(\\d{4})')\n",
    "cve_df.rename(columns={'capability_group': 'year', 'capability_id': 'cve'}, inplace=True)\n",
    "\n",
    "# Use CVSS v3 if available, otherwise fallback to CVSS v2\n",
    "cve_df['cvss'] = cve_df['cvss_v3'].combine_first(cve_df['cvss_v2'])\n",
    "\n",
    "# Drop unneeded columns\n",
    "cve_df.drop(columns=['id', 'cvss_v3', 'cvss_v2'], inplace=True)\n",
    "\n",
    "# Sort by 'year' to get the latest entries first\n",
    "df_sorted = cve_df.sort_values('year', ascending=False)\n",
    "\n",
    "# Strip any leading/trailing spaces in column names\n",
    "df_sorted.columns = df_sorted.columns.str.strip()\n",
    "\n",
    "# Grouping and processing the data\n",
    "result = df_sorted.groupby('attack_object_id').agg({\n",
    "    'cve': lambda x: ', '.join(x),                        # Join CVEs by comma\n",
    "    'cvss': ['max', 'mean'],                              # Get highest and average CVSS\n",
    "    'cwe_id': lambda x: ', '.join(x),                     # Join CWE IDs by comma\n",
    "    'mapping_type': lambda x: x.value_counts().to_dict()   # Count mapping types\n",
    "}).reset_index()\n",
    "\n",
    "# Flatten multi-level column names\n",
    "result.columns = ['ttp', 'cves', 'high_cvss', 'avg_cvss', 'cwes', 'mapping_type_count']\n",
    "\n",
    "# Display the result\n",
    "display(result)"
   ]
  }
 ],
 "metadata": {
  "kernelspec": {
   "display_name": "niu",
   "language": "python",
   "name": "python3"
  },
  "language_info": {
   "codemirror_mode": {
    "name": "ipython",
    "version": 3
   },
   "file_extension": ".py",
   "mimetype": "text/x-python",
   "name": "python",
   "nbconvert_exporter": "python",
   "pygments_lexer": "ipython3",
   "version": "3.12.4"
  }
 },
 "nbformat": 4,
 "nbformat_minor": 2
}
