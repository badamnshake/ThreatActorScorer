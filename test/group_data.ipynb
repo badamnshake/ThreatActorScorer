{
 "cells": [
  {
   "cell_type": "code",
   "execution_count": 1,
   "metadata": {},
   "outputs": [],
   "source": [
    "from mitreattack.stix20 import MitreAttackData\n",
    "#dash mitreattack-python\n",
    "\n",
    "\n",
    "mitre_attack_data = MitreAttackData(\"../data/enterprise-attack.json\")\n",
    "\n",
    "# get the data of techniques used by all the groups\n",
    "# below preprocessing will be done of data to extract techniques\n",
    "technique_using_groups = mitre_attack_data.get_all_techniques_used_by_all_groups()\n",
    "\n",
    "\n",
    "# just skip over the function no need to use a lot brain !!\n",
    "# extracting techniques used by a group\n",
    "groups_list = {}\n",
    "\n",
    "for id, technique  in technique_using_groups.items():\n",
    "    group_id = mitre_attack_data.get_attack_id(id)\n",
    "    ttp_list = []\n",
    "\n",
    "    # get ttp ids of techniques\n",
    "    for t in technique:\n",
    "        external_id = t['object'].external_references[0].external_id \n",
    "        ttp_list.append(external_id)\n",
    "\n",
    "    groups_list[group_id] = ttp_list\n",
    "\n",
    "# print(groups_list)\n",
    "group_id = 'G0007'\n",
    "# get the ttps used by the group\n",
    "ttps = groups_list[group_id]\n"
   ]
  }
 ],
 "metadata": {
  "kernelspec": {
   "display_name": "niu",
   "language": "python",
   "name": "python3"
  },
  "language_info": {
   "codemirror_mode": {
    "name": "ipython",
    "version": 3
   },
   "file_extension": ".py",
   "mimetype": "text/x-python",
   "name": "python",
   "nbconvert_exporter": "python",
   "pygments_lexer": "ipython3",
   "version": "3.12.4"
  }
 },
 "nbformat": 4,
 "nbformat_minor": 2
}
