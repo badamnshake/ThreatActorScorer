{
 "cells": [
  {
   "cell_type": "code",
   "execution_count": 33,
   "metadata": {},
   "outputs": [
    {
     "name": "stdout",
     "output_type": "stream",
     "text": [
      "G0119 group uses\n",
      "{'CVE-2018-15782', 'CVE-2020-11082', 'CVE-2014-4148', 'CVE-2020-5339', 'CVE-2014-0295', 'CVE-2015-1642', 'CVE-2010-1424', 'CVE-2014-6352', 'CVE-2020-3233', 'CVE-2020-0671', 'CVE-2009-3129', 'CVE-2020-11030', 'CVE-2020-3349', 'CVE-2019-0609', 'CVE-2020-11023', 'CVE-2014-0266', 'CVE-2020-4068', 'CVE-2020-11010', 'CVE-2018-11073', 'CVE-2019-13541', 'CVE-2019-1915', 'CVE-2019-1035', 'CVE-2019-3754', 'CVE-2018-8248', 'CVE-2015-0096', 'CVE-2020-1569', 'CVE-2015-6475', 'CVE-2020-5270', 'CVE-2019-0576', 'CVE-2019-18571', 'CVE-2020-11073', 'CVE-2019-15821', 'CVE-2020-5336', 'CVE-2020-11901', 'CVE-2019-1620', 'CVE-2010-0028', 'CVE-2020-5340', 'CVE-2020-5271', 'CVE-2010-3333', 'CVE-2019-0911', 'CVE-2014-0810', 'CVE-2019-13538', 'CVE-2019-3719', 'CVE-2009-3459', 'CVE-2020-3126', 'CVE-2014-4123', 'CVE-2020-1111', 'CVE-2019-1118', 'CVE-2019-3798', 'CVE-2020-5231', 'CVE-2018-8111', 'CVE-2019-15280', 'CVE-2018-15376', 'CVE-2019-13527', 'CVE-2020-5269', 'CVE-2017-11882', 'CVE-2020-11036', 'CVE-2020-3134', 'CVE-2017-0261', 'CVE-2014-7247', 'CVE-2017-8570', 'CVE-2013-1331', 'CVE-2020-1109', 'CVE-2020-3356', 'CVE-2020-16874', 'CVE-2019-13522', 'CVE-2020-3137', 'CVE-2010-0840', 'CVE-2020-13125', 'CVE-2019-3708', 'CVE-2015-4051', 'CVE-2018-8110', 'CVE-2019-1772', 'CVE-2018-15393', 'CVE-2019-1711', 'CVE-2010-3915', 'CVE-2016-7193', 'CVE-2019-12696', 'CVE-2020-3322', 'CVE-2019-1665', 'CVE-2020-5266', 'CVE-2018-11059', 'CVE-2017-11826', 'CVE-2020-1495', 'CVE-2019-1747', 'CVE-2020-9459', 'CVE-2020-5264', 'CVE-2020-3198', 'CVE-2020-3121', 'CVE-2020-6808', 'CVE-2020-16211', 'CVE-2019-15287', 'CVE-2019-1886', 'CVE-2019-1941', 'CVE-2019-1689', 'CVE-2019-1013', 'CVE-2015-2509', 'CVE-2013-3644', 'CVE-2018-8353', 'CVE-2018-8835', 'CVE-2010-1885', 'CVE-2010-2862', 'CVE-2009-0927', 'CVE-2009-0556', 'CVE-2020-3440', 'CVE-2019-15994', 'CVE-2014-7187', 'CVE-2018-20250', 'CVE-2017-8464', 'CVE-2019-18578', 'CVE-2015-6585', 'CVE-2019-3758', 'CVE-2019-18234', 'CVE-2019-3728', 'CVE-2018-8575', 'CVE-2013-6129', 'CVE-2017-0262', 'CVE-2018-8355', 'CVE-2019-1838', 'CVE-2018-11075', 'CVE-2009-4324'}\n"
     ]
    }
   ],
   "source": [
    "import pandas as pd\n",
    "from mitreattack.stix20 import MitreAttackData\n",
    "\n",
    "\n",
    "mitre_attack_data = MitreAttackData(\"enterprise-attack.json\")\n",
    "\n",
    "# cve to cwe and severity matrix\n",
    "cve_cwe_df = pd.read_excel('cve_to_cwe.xlsx')\n",
    "\n",
    "# cve to technique mapping\n",
    "cve_df  = pd.read_csv('cve_mapping.csv')\n",
    "\n",
    "# nist mapping\n",
    "nist_df = pd.read_csv('nist_800_53_mapping.csv')\n",
    "# cve_df[cve_df['mapping_type'].str.contains('primary_impact')]\n",
    "#cve_df.columns\n",
    "\n",
    "# technique_using_groups = mitre_attack_data.get_all_techniques_used_by_all_groups()\n",
    "groups_list = []\n",
    "\n",
    "\n",
    "for id, technique  in technique_using_groups.items():\n",
    "    group_id = mitre_attack_data.get_attack_id(id)\n",
    "    # print(f\"{group_id} - uses  {len(technique)} techniques\")\n",
    "    mitre_id_list = []\n",
    "\n",
    "    for t in technique:\n",
    "        external_id = t['object'].external_references[0].external_id \n",
    "        mitre_id_list.append(external_id)\n",
    "    groups_list.append([group_id,mitre_id_list])\n",
    "\n",
    "cve_df.rename(columns={\"capability_id\": \"CVE-ID\"}, inplace=True)\n",
    "\n",
    "for group_id, mitre_list in groups_list:\n",
    "    print(f\"{group_id} group uses\")\n",
    "    cves = get_cves_used_by_techniques(mitre_list)\n",
    "    print(cves)\n",
    "    # newdf = pd.merge(cves, cve_cwe_df, how='inner', on=['CVE-ID'])\n",
    "    # print(newdf['CVSS-V2'].mean(), end=' - ')\n",
    "    # print(newdf['CVSS-V3'].mean(), end=' - capability counts - ')\n",
    "    # filt = nist_df['attack_object_id'] == t\n",
    "    # display(nist_df.loc[filt]['capability_group'].value_counts())\n",
    "    # display(newdf)\n",
    "    break\n",
    "# nist_df['capability_group'].value_counts()\n",
    "\n",
    "\n"
   ]
  },
  {
   "cell_type": "code",
   "execution_count": 32,
   "metadata": {},
   "outputs": [],
   "source": [
    "# given a list of techniques [] return all the cves related to the techniques\n",
    "# it uses a set to eleminate duplicates for a set\n",
    "def get_cves_used_by_techniques(techniques):\n",
    "    cvs = set()\n",
    "    for t in techniques:\n",
    "        cvs.update(cve_df[cve_df['attack_object_id'].str.contains(t)]['CVE-ID'].to_list())\n",
    "    return cvs\n",
    "        \n",
    "    "
   ]
  },
  {
   "cell_type": "code",
   "execution_count": null,
   "metadata": {},
   "outputs": [],
   "source": [
    "\n",
    "\n",
    "\n",
    "# technique = mitre_attack_data.get_object_by_attack_id('T1134', 'attack-pattern')\n",
    "\n",
    "# groups_using_techniques = mitre_attack_data.get_all_groups_using_all_techniques()\n",
    "\n",
    "# print(technique)\n",
    "# print(f\"Groups using techniques ({len(groups_using_techniques.keys())} techniques):\")\n",
    "\n",
    "# for id, groups in groups_using_techniques.items():\n",
    "#     attack_id = mitre_attack_data.get_attack_id(id)\n",
    "#     print(f\"{attack_id} - used by {len(groups)} {'group' if len(groups) == 1 else 'groups'}\")\n",
    "\n",
    "# print(f\"Technics used by ({len(technique_using_groups.keys())} groups):\")\n",
    "\n",
    "# print(technique_using_groups.items()[0])\n",
    "# print(technique_using_groups.items())\n",
    "    # for m in mitre_id_list:\n",
    "    #     print(m)\n",
    "\n",
    "\n",
    "\n",
    "\n"
   ]
  }
 ],
 "metadata": {
  "kernelspec": {
   "display_name": "tinnovationp",
   "language": "python",
   "name": "python3"
  },
  "language_info": {
   "codemirror_mode": {
    "name": "ipython",
    "version": 3
   },
   "file_extension": ".py",
   "mimetype": "text/x-python",
   "name": "python",
   "nbconvert_exporter": "python",
   "pygments_lexer": "ipython3",
   "version": "3.12.4"
  }
 },
 "nbformat": 4,
 "nbformat_minor": 2
}
